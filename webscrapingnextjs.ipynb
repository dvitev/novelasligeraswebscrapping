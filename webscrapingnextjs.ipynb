{
 "cells": [
  {
   "cell_type": "code",
   "execution_count": 1,
   "metadata": {},
   "outputs": [],
   "source": [
    "# !pip install beautifulsoup4 EbookLib flet fpdf2 googletrans icrawler pandas pillow pyinstaller selenium translators undetected-chromedriver urllib3 webdriver_manager undetected-edgedriver django djangorestframework django-filter markdown dnspython mongoengine python-dotenv django-import-export django-cors-headers django-filter google_trans_new langdetect\n",
    "# !pip install pymongo[snappy,gssapi,srv,tls]==3.12.3 djongo==1.3.6"
   ]
  },
  {
   "cell_type": "code",
   "execution_count": 2,
   "metadata": {
    "tags": []
   },
   "outputs": [],
   "source": [
    "from webdriver_manager.chrome import ChromeDriverManager\n",
    "from selenium.webdriver.chrome.service import Service\n",
    "from selenium.webdriver.common.by import By\n",
    "from bs4 import BeautifulSoup as bs\n",
    "import translators as ts\n",
    "import undetected_chromedriver as uc\n",
    "import pandas as pd\n",
    "from selenium import webdriver\n",
    "import requests\n",
    "import json\n",
    "import time\n",
    "import asyncio\n",
    "from pymongo import MongoClient\n",
    "from google_trans_new import google_translator\n",
    "from langdetect import detect, DetectorFactory\n",
    "from datetime import datetime\n",
    "import csv\n",
    "import re\n",
    "DetectorFactory.seed = 0 "
   ]
  },
  {
   "cell_type": "code",
   "execution_count": 3,
   "metadata": {
    "tags": []
   },
   "outputs": [],
   "source": [
    "client = MongoClient('mongodb://192.168.1.11:27017/')\n",
    "\n",
    "# Selecciona la base de datos\n",
    "db = client['recopilarnovelas']"
   ]
  },
  {
   "cell_type": "code",
   "execution_count": 4,
   "metadata": {
    "tags": []
   },
   "outputs": [],
   "source": [
    "options = webdriver.ChromeOptions()\n",
    "options.add_argument('--disable-blink-features=AutomationControlled')\n",
    "options.add_argument('--user-agent=Mozilla/5.0 (Windows NT 10.0; Win64; x64) AppleWebKit/537.36 (KHTML, like Gecko) Chrome/58.0.3029.110 Safari/537.3')"
   ]
  },
  {
   "cell_type": "code",
   "execution_count": 5,
   "metadata": {
    "tags": []
   },
   "outputs": [],
   "source": [
    "url = 'http://192.168.1.11:3000'"
   ]
  },
  {
   "cell_type": "code",
   "execution_count": 6,
   "metadata": {
    "tags": []
   },
   "outputs": [],
   "source": [
    "driver = webdriver.Chrome(options=options, service = Service(executable_path=ChromeDriverManager().install()))"
   ]
  },
  {
   "cell_type": "code",
   "execution_count": 7,
   "metadata": {
    "tags": []
   },
   "outputs": [],
   "source": [
    "driver.get(url)\n",
    "# driver.maximize_window()"
   ]
  },
  {
   "cell_type": "code",
   "execution_count": 8,
   "metadata": {
    "tags": []
   },
   "outputs": [],
   "source": [
    "driver.find_element(By.XPATH, '/html/body/nav/a[2]').click()\n",
    "time.sleep(30)"
   ]
  },
  {
   "cell_type": "code",
   "execution_count": 9,
   "metadata": {
    "tags": []
   },
   "outputs": [],
   "source": [
    "html = driver.page_source\n",
    "soup = bs(html, 'html.parser')\n",
    "div_novels = soup.find('div', class_='novelOptions')\n",
    "list_novels = div_novels.find_all('a')\n",
    "data_novelas = {\"nombre\":[], \"url\":[]}\n",
    "for chap in list_novels:\n",
    "    data_novelas['nombre'].append(chap.getText())\n",
    "    data_novelas['url'].append(chap.get('href'))\n",
    "df_novelas = pd.DataFrame(data_novelas)\n"
   ]
  },
  {
   "cell_type": "code",
   "execution_count": 10,
   "metadata": {},
   "outputs": [
    {
     "data": {
      "text/plain": [
       "5966"
      ]
     },
     "execution_count": 10,
     "metadata": {},
     "output_type": "execute_result"
    }
   ],
   "source": [
    "len(df_novelas)"
   ]
  },
  {
   "cell_type": "code",
   "execution_count": 11,
   "metadata": {
    "tags": []
   },
   "outputs": [
    {
     "data": {
      "text/html": [
       "<div>\n",
       "<style scoped>\n",
       "    .dataframe tbody tr th:only-of-type {\n",
       "        vertical-align: middle;\n",
       "    }\n",
       "\n",
       "    .dataframe tbody tr th {\n",
       "        vertical-align: top;\n",
       "    }\n",
       "\n",
       "    .dataframe thead th {\n",
       "        text-align: right;\n",
       "    }\n",
       "</style>\n",
       "<table border=\"1\" class=\"dataframe\">\n",
       "  <thead>\n",
       "    <tr style=\"text-align: right;\">\n",
       "      <th></th>\n",
       "      <th>nombre</th>\n",
       "      <th>url</th>\n",
       "    </tr>\n",
       "  </thead>\n",
       "  <tbody>\n",
       "    <tr>\n",
       "      <th>0</th>\n",
       "      <td>MARTIAL KING'S RETIRED LIFE</td>\n",
       "      <td>/novelas/65e7ed3d9297a4c7c5aaaeef</td>\n",
       "    </tr>\n",
       "    <tr>\n",
       "      <th>1</th>\n",
       "      <td>CULTIVATION CHAT GROUP</td>\n",
       "      <td>/novelas/65e874957a145405d0b24bf5</td>\n",
       "    </tr>\n",
       "    <tr>\n",
       "      <th>2</th>\n",
       "      <td>EMPEROR'S DOMINATION</td>\n",
       "      <td>/novelas/65efbb2ceb6e829adc4a104a</td>\n",
       "    </tr>\n",
       "    <tr>\n",
       "      <th>3</th>\n",
       "      <td>BECOMING IMMORTAL THROUGH GETTING MARRIED</td>\n",
       "      <td>/novelas/65efbb58eb6e829adc4a104c</td>\n",
       "    </tr>\n",
       "    <tr>\n",
       "      <th>4</th>\n",
       "      <td>AS AN IMMORTAL, I ONLY LEARN FORBIDDEN SKILLS</td>\n",
       "      <td>/novelas/65f1af5d4285ef9618f6b28f</td>\n",
       "    </tr>\n",
       "    <tr>\n",
       "      <th>...</th>\n",
       "      <td>...</td>\n",
       "      <td>...</td>\n",
       "    </tr>\n",
       "    <tr>\n",
       "      <th>5961</th>\n",
       "      <td>GODZILLA IN KONOHA</td>\n",
       "      <td>/novelas/665a9909c5df59f7137311ad</td>\n",
       "    </tr>\n",
       "    <tr>\n",
       "      <th>5962</th>\n",
       "      <td>NARUTO: I AM NOT REALLY RELATED</td>\n",
       "      <td>/novelas/665a995fc5df59f713731567</td>\n",
       "    </tr>\n",
       "    <tr>\n",
       "      <th>5963</th>\n",
       "      <td>EROGE: I CAN TRAVEL TO THE ANCIENT WORLD</td>\n",
       "      <td>/novelas/665a9ac4c5df59f713732497</td>\n",
       "    </tr>\n",
       "    <tr>\n",
       "      <th>5964</th>\n",
       "      <td>THE LUSTFUL YOUNG MASTER IS SINISTER!</td>\n",
       "      <td>/novelas/665a9ac9c5df59f7137324b5</td>\n",
       "    </tr>\n",
       "    <tr>\n",
       "      <th>5965</th>\n",
       "      <td>PROGENITOR VAMPIRE: I HAVE MANY SKILLS!</td>\n",
       "      <td>/novelas/665a9adac5df59f71373252b</td>\n",
       "    </tr>\n",
       "  </tbody>\n",
       "</table>\n",
       "<p>5966 rows × 2 columns</p>\n",
       "</div>"
      ],
      "text/plain": [
       "                                             nombre  \\\n",
       "0                       MARTIAL KING'S RETIRED LIFE   \n",
       "1                            CULTIVATION CHAT GROUP   \n",
       "2                              EMPEROR'S DOMINATION   \n",
       "3         BECOMING IMMORTAL THROUGH GETTING MARRIED   \n",
       "4     AS AN IMMORTAL, I ONLY LEARN FORBIDDEN SKILLS   \n",
       "...                                             ...   \n",
       "5961                             GODZILLA IN KONOHA   \n",
       "5962                NARUTO: I AM NOT REALLY RELATED   \n",
       "5963       EROGE: I CAN TRAVEL TO THE ANCIENT WORLD   \n",
       "5964          THE LUSTFUL YOUNG MASTER IS SINISTER!   \n",
       "5965        PROGENITOR VAMPIRE: I HAVE MANY SKILLS!   \n",
       "\n",
       "                                    url  \n",
       "0     /novelas/65e7ed3d9297a4c7c5aaaeef  \n",
       "1     /novelas/65e874957a145405d0b24bf5  \n",
       "2     /novelas/65efbb2ceb6e829adc4a104a  \n",
       "3     /novelas/65efbb58eb6e829adc4a104c  \n",
       "4     /novelas/65f1af5d4285ef9618f6b28f  \n",
       "...                                 ...  \n",
       "5961  /novelas/665a9909c5df59f7137311ad  \n",
       "5962  /novelas/665a995fc5df59f713731567  \n",
       "5963  /novelas/665a9ac4c5df59f713732497  \n",
       "5964  /novelas/665a9ac9c5df59f7137324b5  \n",
       "5965  /novelas/665a9adac5df59f71373252b  \n",
       "\n",
       "[5966 rows x 2 columns]"
      ]
     },
     "execution_count": 11,
     "metadata": {},
     "output_type": "execute_result"
    }
   ],
   "source": [
    "df_novelas"
   ]
  },
  {
   "cell_type": "code",
   "execution_count": 12,
   "metadata": {
    "tags": []
   },
   "outputs": [],
   "source": [
    "def traducir(texto):\n",
    "    contenido_p = ''\n",
    "    while True:\n",
    "        try:\n",
    "            contenido_p = ts.translate_text(\n",
    "                texto, translator='bing', to_language='es')\n",
    "            break\n",
    "        except Exception as e:\n",
    "            # print(e)\n",
    "            try:\n",
    "                contenido_p = ts.translate_text(\n",
    "                    texto, translator='google', to_language='es')\n",
    "                break\n",
    "            except Exception as e:\n",
    "                # print(e)\n",
    "                try:\n",
    "                    translator = google_translator() \n",
    "                    contenido_p = translator.translate(texto, lang_tgt='es')\n",
    "                except Exception as e:\n",
    "                    # print(e)\n",
    "                    pass\n",
    "                pass\n",
    "            pass\n",
    "    return contenido_p"
   ]
  },
  {
   "cell_type": "code",
   "execution_count": 13,
   "metadata": {
    "tags": []
   },
   "outputs": [],
   "source": [
    "def enviar_contenido_capitulo(novel_id,capitulo_id,texto_capitulo):\n",
    "    url_contenido_capitulos = \"http://192.168.1.11:8000/api/contenidocapitulos/\"\n",
    "    headers = {\n",
    "        'Content-Type': 'application/json'\n",
    "    }\n",
    "    payload_chapter = {\n",
    "        \"novela_id\": novel_id,\n",
    "        \"capitulo_id\": capitulo_id,\n",
    "        \"texto\": texto_capitulo,\n",
    "        \"created_at\": datetime.now().isoformat(),\n",
    "        \"updated_at\": datetime.now().isoformat()\n",
    "    }\n",
    "\n",
    "    try:\n",
    "        res_cap = requests.post(url_contenido_capitulos, headers=headers, json=payload_chapter)\n",
    "        res_cap.raise_for_status()\n",
    "        return res_cap.json()['_id']\n",
    "    except requests.exceptions.RequestException as e:\n",
    "        print(f\"Error al enviar el contenido del capítulo: {e}\")\n",
    "        return None"
   ]
  },
  {
   "cell_type": "code",
   "execution_count": 14,
   "metadata": {},
   "outputs": [],
   "source": [
    "def eliminar_html(texto):\n",
    "    \"\"\"Elimina las etiquetas HTML del texto.\"\"\"\n",
    "    return re.sub(r'<[^>]+>', '', texto)"
   ]
  },
  {
   "cell_type": "code",
   "execution_count": 15,
   "metadata": {
    "tags": []
   },
   "outputs": [],
   "source": [
    "def manejar_driver(url, driver, novel_id):\n",
    "    \"\"\"\n",
    "    Maneja el proceso de extracción de contenido de capítulos de una novela.\n",
    "\n",
    "    Args:\n",
    "        url (str): La URL de la novela.\n",
    "        driver (webdriver): El controlador del navegador web.\n",
    "        novel_id (str): El ID de la novela.\n",
    "\n",
    "    Returns:\n",
    "        None\n",
    "    \"\"\"\n",
    "    driver.get(url)\n",
    "    list_chapter = driver.find_elements(By.CLASS_NAME, 'capitulo')\n",
    "\n",
    "    # Obtener una lista de capítulos existentes en la base de datos\n",
    "    coleccion = db['app_contenidocapitulo']\n",
    "    capitulos_existentes = coleccion.find({'novela_id': novel_id}, {'capitulo_id': 1, '_id': 0})\n",
    "    capitulos_existentes = [doc['capitulo_id'] for doc in capitulos_existentes]\n",
    "\n",
    "    for chapter in list_chapter:\n",
    "        capitulo_id = chapter.get_attribute('id')\n",
    "        if capitulo_id not in capitulos_existentes:\n",
    "            print(f\"Procesando capítulo: {chapter.text} id: {capitulo_id}\", end=\" | \")\n",
    "            chapter.click()\n",
    "            time.sleep(3)  # Esperar a que se cargue el contenido del capítulo\n",
    "\n",
    "            # Cambiar el contexto al iframe\n",
    "            iframe = driver.find_element(By.XPATH, \"/html/body/div/div/div[1]/iframe\")\n",
    "            driver.switch_to.frame(iframe)\n",
    "\n",
    "            try:\n",
    "                html_frame = driver.page_source\n",
    "                soup_frame = bs(html_frame, 'html.parser')\n",
    "                div_chap_content = soup_frame.find('div', id='chr-content')\n",
    "                p_chap_content = div_chap_content.find_all('p')\n",
    "                chap_content = [p.getText().strip().rstrip() for p in p_chap_content]\n",
    "\n",
    "                texto_capitulo = ''\n",
    "                for parrafo in chap_content:\n",
    "                    if parrafo != '':\n",
    "                        if len(parrafo) > 4000:\n",
    "                            texto_traducido = '. '.join([traducir(eliminar_html(x)) for x in parrafo.split('. ') if x != ''])\n",
    "                            texto_capitulo += f\"<p>{texto_traducido}</p>\"\n",
    "                        else:\n",
    "                            texto_traducido = traducir(eliminar_html(parrafo))\n",
    "                            texto_capitulo += f\"<p>{texto_traducido}</p>\"\n",
    "\n",
    "                _id = enviar_contenido_capitulo(novel_id=novel_id, capitulo_id=capitulo_id, texto_capitulo=texto_capitulo)\n",
    "                print(f\"ID del capítulo insertado: {_id}\")\n",
    "            except Exception as e:\n",
    "                print(f\"El capitulo {capitulo_id} ha presentado problemas al momento de acceder.\")\n",
    "                pass\n",
    "\n",
    "            # Volver al contexto principal de la página web\n",
    "            driver.switch_to.default_content()\n",
    "        # else:\n",
    "        #     print(f\"El capítulo {capitulo_id} ya existe en la base de datos. Omitiendo...\", end=\" | \")\n",
    "        # break\n",
    "    "
   ]
  },
  {
   "cell_type": "code",
   "execution_count": 16,
   "metadata": {},
   "outputs": [
    {
     "data": {
      "text/html": [
       "<div>\n",
       "<style scoped>\n",
       "    .dataframe tbody tr th:only-of-type {\n",
       "        vertical-align: middle;\n",
       "    }\n",
       "\n",
       "    .dataframe tbody tr th {\n",
       "        vertical-align: top;\n",
       "    }\n",
       "\n",
       "    .dataframe thead th {\n",
       "        text-align: right;\n",
       "    }\n",
       "</style>\n",
       "<table border=\"1\" class=\"dataframe\">\n",
       "  <thead>\n",
       "    <tr style=\"text-align: right;\">\n",
       "      <th></th>\n",
       "      <th>nombre</th>\n",
       "      <th>url</th>\n",
       "    </tr>\n",
       "  </thead>\n",
       "  <tbody>\n",
       "    <tr>\n",
       "      <th>5965</th>\n",
       "      <td>PROGENITOR VAMPIRE: I HAVE MANY SKILLS!</td>\n",
       "      <td>/novelas/665a9adac5df59f71373252b</td>\n",
       "    </tr>\n",
       "    <tr>\n",
       "      <th>5964</th>\n",
       "      <td>THE LUSTFUL YOUNG MASTER IS SINISTER!</td>\n",
       "      <td>/novelas/665a9ac9c5df59f7137324b5</td>\n",
       "    </tr>\n",
       "    <tr>\n",
       "      <th>5963</th>\n",
       "      <td>EROGE: I CAN TRAVEL TO THE ANCIENT WORLD</td>\n",
       "      <td>/novelas/665a9ac4c5df59f713732497</td>\n",
       "    </tr>\n",
       "    <tr>\n",
       "      <th>5962</th>\n",
       "      <td>NARUTO: I AM NOT REALLY RELATED</td>\n",
       "      <td>/novelas/665a995fc5df59f713731567</td>\n",
       "    </tr>\n",
       "    <tr>\n",
       "      <th>5961</th>\n",
       "      <td>GODZILLA IN KONOHA</td>\n",
       "      <td>/novelas/665a9909c5df59f7137311ad</td>\n",
       "    </tr>\n",
       "    <tr>\n",
       "      <th>...</th>\n",
       "      <td>...</td>\n",
       "      <td>...</td>\n",
       "    </tr>\n",
       "    <tr>\n",
       "      <th>4</th>\n",
       "      <td>AS AN IMMORTAL, I ONLY LEARN FORBIDDEN SKILLS</td>\n",
       "      <td>/novelas/65f1af5d4285ef9618f6b28f</td>\n",
       "    </tr>\n",
       "    <tr>\n",
       "      <th>3</th>\n",
       "      <td>BECOMING IMMORTAL THROUGH GETTING MARRIED</td>\n",
       "      <td>/novelas/65efbb58eb6e829adc4a104c</td>\n",
       "    </tr>\n",
       "    <tr>\n",
       "      <th>2</th>\n",
       "      <td>EMPEROR'S DOMINATION</td>\n",
       "      <td>/novelas/65efbb2ceb6e829adc4a104a</td>\n",
       "    </tr>\n",
       "    <tr>\n",
       "      <th>1</th>\n",
       "      <td>CULTIVATION CHAT GROUP</td>\n",
       "      <td>/novelas/65e874957a145405d0b24bf5</td>\n",
       "    </tr>\n",
       "    <tr>\n",
       "      <th>0</th>\n",
       "      <td>MARTIAL KING'S RETIRED LIFE</td>\n",
       "      <td>/novelas/65e7ed3d9297a4c7c5aaaeef</td>\n",
       "    </tr>\n",
       "  </tbody>\n",
       "</table>\n",
       "<p>5966 rows × 2 columns</p>\n",
       "</div>"
      ],
      "text/plain": [
       "                                             nombre  \\\n",
       "5965        PROGENITOR VAMPIRE: I HAVE MANY SKILLS!   \n",
       "5964          THE LUSTFUL YOUNG MASTER IS SINISTER!   \n",
       "5963       EROGE: I CAN TRAVEL TO THE ANCIENT WORLD   \n",
       "5962                NARUTO: I AM NOT REALLY RELATED   \n",
       "5961                             GODZILLA IN KONOHA   \n",
       "...                                             ...   \n",
       "4     AS AN IMMORTAL, I ONLY LEARN FORBIDDEN SKILLS   \n",
       "3         BECOMING IMMORTAL THROUGH GETTING MARRIED   \n",
       "2                              EMPEROR'S DOMINATION   \n",
       "1                            CULTIVATION CHAT GROUP   \n",
       "0                       MARTIAL KING'S RETIRED LIFE   \n",
       "\n",
       "                                    url  \n",
       "5965  /novelas/665a9adac5df59f71373252b  \n",
       "5964  /novelas/665a9ac9c5df59f7137324b5  \n",
       "5963  /novelas/665a9ac4c5df59f713732497  \n",
       "5962  /novelas/665a995fc5df59f713731567  \n",
       "5961  /novelas/665a9909c5df59f7137311ad  \n",
       "...                                 ...  \n",
       "4     /novelas/65f1af5d4285ef9618f6b28f  \n",
       "3     /novelas/65efbb58eb6e829adc4a104c  \n",
       "2     /novelas/65efbb2ceb6e829adc4a104a  \n",
       "1     /novelas/65e874957a145405d0b24bf5  \n",
       "0     /novelas/65e7ed3d9297a4c7c5aaaeef  \n",
       "\n",
       "[5966 rows x 2 columns]"
      ]
     },
     "execution_count": 16,
     "metadata": {},
     "output_type": "execute_result"
    }
   ],
   "source": [
    "df_novelas = df_novelas.iloc[::-1]\n",
    "df_novelas"
   ]
  },
  {
   "cell_type": "code",
   "execution_count": 17,
   "metadata": {
    "scrolled": true,
    "tags": []
   },
   "outputs": [
    {
     "name": "stdout",
     "output_type": "stream",
     "text": [
      "5966 PROGENITOR VAMPIRE: I HAVE MANY SKILLS! 665a9adac5df59f71373252b\n"
     ]
    }
   ],
   "source": [
    "for idx, novela in df_novelas.iterrows():\n",
    "    novel_id = novela.url.split('/')[-1]\n",
    "    print((idx+1),novela['nombre'],novel_id)\n",
    "#     time.sleep(4)\n",
    "    manejar_driver(url=f\"{url}{novela.url}\", driver=driver, novel_id=novel_id)\n",
    "    # break"
   ]
  },
  {
   "cell_type": "code",
   "execution_count": null,
   "metadata": {},
   "outputs": [],
   "source": [
    "driver.quit()"
   ]
  }
 ],
 "metadata": {
  "kernelspec": {
   "display_name": "Python 3 (ipykernel)",
   "language": "python",
   "name": "python3"
  },
  "language_info": {
   "codemirror_mode": {
    "name": "ipython",
    "version": 3
   },
   "file_extension": ".py",
   "mimetype": "text/x-python",
   "name": "python",
   "nbconvert_exporter": "python",
   "pygments_lexer": "ipython3",
   "version": "3.10.14"
  }
 },
 "nbformat": 4,
 "nbformat_minor": 4
}
