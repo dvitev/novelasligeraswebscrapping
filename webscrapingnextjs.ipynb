{
 "cells": [
  {
   "cell_type": "code",
   "execution_count": null,
   "metadata": {
    "tags": []
   },
   "outputs": [],
   "source": [
    "from webdriver_manager.chrome import ChromeDriverManager\n",
    "from selenium.webdriver.chrome.service import Service\n",
    "from selenium.webdriver.common.by import By\n",
    "from bs4 import BeautifulSoup as bs\n",
    "import translators as ts\n",
    "import undetected_chromedriver as uc\n",
    "import pandas as pd\n",
    "from selenium import webdriver\n",
    "import requests\n",
    "import json\n",
    "import time\n",
    "import asyncio\n",
    "from pymongo import MongoClient\n",
    "from google_trans_new import google_translator\n",
    "from langdetect import detect, DetectorFactory\n",
    "from datetime import datetime\n",
    "import csv\n",
    "import re\n",
    "DetectorFactory.seed = 0 "
   ]
  },
  {
   "cell_type": "code",
   "execution_count": null,
   "metadata": {
    "tags": []
   },
   "outputs": [],
   "source": [
    "client = MongoClient('mongodb://192.168.1.11:27017/')\n",
    "\n",
    "# Selecciona la base de datos\n",
    "db = client['recopilarnovelas']"
   ]
  },
  {
   "cell_type": "code",
   "execution_count": null,
   "metadata": {
    "tags": []
   },
   "outputs": [],
   "source": [
    "options = webdriver.ChromeOptions()\n",
    "options.add_argument('--disable-blink-features=AutomationControlled')\n",
    "options.add_argument('--user-agent=Mozilla/5.0 (Windows NT 10.0; Win64; x64) AppleWebKit/537.36 (KHTML, like Gecko) Chrome/58.0.3029.110 Safari/537.3')"
   ]
  },
  {
   "cell_type": "code",
   "execution_count": null,
   "metadata": {
    "tags": []
   },
   "outputs": [],
   "source": [
    "url = 'http://192.168.1.11:3000'"
   ]
  },
  {
   "cell_type": "code",
   "execution_count": null,
   "metadata": {
    "tags": []
   },
   "outputs": [],
   "source": [
    "driver = uc.Chrome(options=options, service = Service(executable_path=ChromeDriverManager().install()))"
   ]
  },
  {
   "cell_type": "code",
   "execution_count": null,
   "metadata": {
    "tags": []
   },
   "outputs": [],
   "source": [
    "driver.get(url)\n",
    "driver.maximize_window()"
   ]
  },
  {
   "cell_type": "code",
   "execution_count": null,
   "metadata": {
    "tags": []
   },
   "outputs": [],
   "source": [
    "driver.find_element(By.XPATH, '/html/body/nav/a[2]').click()\n",
    "time.sleep(30)"
   ]
  },
  {
   "cell_type": "code",
   "execution_count": null,
   "metadata": {
    "tags": []
   },
   "outputs": [],
   "source": [
    "html = driver.page_source\n",
    "soup = bs(html, 'html.parser')\n",
    "div_novels = soup.find('div', class_='novelOptions')\n",
    "list_novels = div_novels.find_all('a')\n",
    "data_novelas = {\"nombre\":[], \"url\":[]}\n",
    "for chap in list_novels:\n",
    "    data_novelas['nombre'].append(chap.getText())\n",
    "    data_novelas['url'].append(chap.get('href'))\n",
    "df_novelas = pd.DataFrame(data_novelas)\n"
   ]
  },
  {
   "cell_type": "code",
   "execution_count": null,
   "metadata": {},
   "outputs": [],
   "source": [
    "len(df_novelas)"
   ]
  },
  {
   "cell_type": "code",
   "execution_count": null,
   "metadata": {
    "tags": []
   },
   "outputs": [],
   "source": [
    "df_novelas"
   ]
  },
  {
   "cell_type": "code",
   "execution_count": null,
   "metadata": {
    "tags": []
   },
   "outputs": [],
   "source": [
    "def traducir(texto):\n",
    "    contenido_p = ''\n",
    "    while True:\n",
    "        try:\n",
    "            contenido_p = ts.translate_text(\n",
    "                texto, translator='bing', to_language='es')\n",
    "            break\n",
    "        except Exception as e:\n",
    "            # print(e)\n",
    "            try:\n",
    "                contenido_p = ts.translate_text(\n",
    "                    texto, translator='google', to_language='es')\n",
    "                break\n",
    "            except Exception as e:\n",
    "                # print(e)\n",
    "                try:\n",
    "                    translator = google_translator() \n",
    "                    contenido_p = translator.translate(texto, lang_tgt='es')\n",
    "                except Exception as e:\n",
    "                    # print(e)\n",
    "                    pass\n",
    "                pass\n",
    "            pass\n",
    "    return contenido_p"
   ]
  },
  {
   "cell_type": "code",
   "execution_count": null,
   "metadata": {
    "tags": []
   },
   "outputs": [],
   "source": [
    "def enviar_contenido_capitulo(novel_id,capitulo_id,texto_capitulo):\n",
    "    url_contenido_capitulos = \"http://192.168.1.11:8000/api/contenidocapitulos/\"\n",
    "    headers = {\n",
    "        'Content-Type': 'application/json'\n",
    "    }\n",
    "    payload_chapter = {\n",
    "        \"novela_id\": novel_id,\n",
    "        \"capitulo_id\": capitulo_id,\n",
    "        \"texto\": texto_capitulo,\n",
    "        \"created_at\": datetime.now().isoformat(),\n",
    "        \"updated_at\": datetime.now().isoformat()\n",
    "    }\n",
    "\n",
    "    try:\n",
    "        res_cap = requests.post(url_contenido_capitulos, headers=headers, json=payload_chapter)\n",
    "        res_cap.raise_for_status()\n",
    "        return res_cap.json()['_id']\n",
    "    except requests.exceptions.RequestException as e:\n",
    "        print(f\"Error al enviar el contenido del capítulo: {e}\")\n",
    "        return None"
   ]
  },
  {
   "cell_type": "code",
   "execution_count": null,
   "metadata": {},
   "outputs": [],
   "source": [
    "def eliminar_html(texto):\n",
    "    \"\"\"Elimina las etiquetas HTML del texto.\"\"\"\n",
    "    return re.sub(r'<[^>]+>', '', texto)"
   ]
  },
  {
   "cell_type": "code",
   "execution_count": null,
   "metadata": {
    "tags": []
   },
   "outputs": [],
   "source": [
    "def manejar_driver(url, driver, novel_id):\n",
    "    \"\"\"\n",
    "    Maneja el proceso de extracción de contenido de capítulos de una novela.\n",
    "\n",
    "    Args:\n",
    "        url (str): La URL de la novela.\n",
    "        driver (webdriver): El controlador del navegador web.\n",
    "        novel_id (str): El ID de la novela.\n",
    "\n",
    "    Returns:\n",
    "        None\n",
    "    \"\"\"\n",
    "    driver.get(url)\n",
    "    list_chapter = driver.find_elements(By.CLASS_NAME, 'capitulo')\n",
    "\n",
    "    # Obtener una lista de capítulos existentes en la base de datos\n",
    "    coleccion = db['app_contenidocapitulo']\n",
    "    capitulos_existentes = coleccion.find({'novela_id': novel_id}, {'capitulo_id': 1, '_id': 0})\n",
    "    capitulos_existentes = [doc['capitulo_id'] for doc in capitulos_existentes]\n",
    "\n",
    "    for chapter in list_chapter:\n",
    "        capitulo_id = chapter.get_attribute('id')\n",
    "        if capitulo_id not in capitulos_existentes:\n",
    "            print(f\"Procesando capítulo: {chapter.get_Text()} id: {capitulo_id}\", end=\" | \")\n",
    "            chapter.click()\n",
    "            time.sleep(3)  # Esperar a que se cargue el contenido del capítulo\n",
    "\n",
    "            # Cambiar el contexto al iframe\n",
    "            iframe = driver.find_element(By.XPATH, \"/html/body/div/div/div[1]/iframe\")\n",
    "            driver.switch_to.frame(iframe)\n",
    "\n",
    "            try:\n",
    "                html_frame = driver.page_source\n",
    "                soup_frame = bs(html_frame, 'html.parser')\n",
    "                div_chap_content = soup_frame.find('div', id='chr-content')\n",
    "                p_chap_content = div_chap_content.find_all('p')\n",
    "                chap_content = [p.getText().strip().rstrip() for p in p_chap_content]\n",
    "\n",
    "                texto_capitulo = ''\n",
    "                for parrafo in chap_content:\n",
    "                    if parrafo != '':\n",
    "                        if len(parrafo) > 4000:\n",
    "                            texto_traducido = '. '.join([traducir(eliminar_html(x)) for x in parrafo.split('. ') if x != ''])\n",
    "                            texto_capitulo += f\"<p>{texto_traducido}</p>\"\n",
    "                        else:\n",
    "                            texto_traducido = traducir(eliminar_html(parrafo))\n",
    "                            texto_capitulo += f\"<p>{texto_traducido}</p>\"\n",
    "\n",
    "                _id = enviar_contenido_capitulo(novel_id=novel_id, capitulo_id=capitulo_id, texto_capitulo=texto_capitulo)\n",
    "                print(f\"ID del capítulo insertado: {_id}\")\n",
    "            except Exception as e:\n",
    "                print(f\"El capitulo {capitulo_id} ha presentado problemas al momento de acceder.\")\n",
    "                pass\n",
    "\n",
    "            # Volver al contexto principal de la página web\n",
    "            driver.switch_to.default_content()\n",
    "        # else:\n",
    "        #     print(f\"El capítulo {capitulo_id} ya existe en la base de datos. Omitiendo...\", end=\" | \")\n",
    "        # break\n",
    "    "
   ]
  },
  {
   "cell_type": "code",
   "execution_count": null,
   "metadata": {},
   "outputs": [],
   "source": [
    "df_novelas = df_novelas.iloc[::-1]\n",
    "df_novelas"
   ]
  },
  {
   "cell_type": "code",
   "execution_count": null,
   "metadata": {
    "scrolled": true,
    "tags": []
   },
   "outputs": [],
   "source": [
    "for idx, novela in df_novelas.iterrows():\n",
    "    novel_id = novela.url.split('/')[-1]\n",
    "    print(novela['nombre'],novel_id)\n",
    "    time.sleep(4)\n",
    "    manejar_driver(url=f\"{url}{novela.url}\", driver=driver, novel_id=novel_id)\n",
    "    # break"
   ]
  },
  {
   "cell_type": "code",
   "execution_count": null,
   "metadata": {},
   "outputs": [],
   "source": [
    "driver.quit()"
   ]
  }
 ],
 "metadata": {
  "kernelspec": {
   "display_name": "Python 3 (ipykernel)",
   "language": "python",
   "name": "python3"
  },
  "language_info": {
   "codemirror_mode": {
    "name": "ipython",
    "version": 3
   },
   "file_extension": ".py",
   "mimetype": "text/x-python",
   "name": "python",
   "nbconvert_exporter": "python",
   "pygments_lexer": "ipython3",
   "version": "3.11.5"
  }
 },
 "nbformat": 4,
 "nbformat_minor": 4
}
