{
 "cells": [
  {
   "cell_type": "code",
   "execution_count": 1,
   "metadata": {
    "tags": []
   },
   "outputs": [],
   "source": [
    "from webdriver_manager.chrome import ChromeDriverManager\n",
    "from selenium.webdriver.chrome.service import Service\n",
    "from selenium.webdriver.common.by import By\n",
    "from bs4 import BeautifulSoup as bs\n",
    "import translators as ts\n",
    "import undetected_chromedriver as uc\n",
    "import pandas as pd\n",
    "from selenium import webdriver\n",
    "import requests\n",
    "import json\n",
    "import time\n",
    "import asyncio\n",
    "from pymongo import MongoClient\n",
    "from google_trans_new import google_translator\n",
    "from langdetect import detect, DetectorFactory\n",
    "from datetime import datetime\n",
    "import csv\n",
    "DetectorFactory.seed = 0 \n"
   ]
  },
  {
   "cell_type": "code",
   "execution_count": 2,
   "metadata": {
    "tags": []
   },
   "outputs": [],
   "source": [
    "client = MongoClient('mongodb://192.168.1.11:27017/')\n",
    "\n",
    "# Selecciona la base de datos\n",
    "db = client['recopilarnovelas']"
   ]
  },
  {
   "cell_type": "code",
   "execution_count": 3,
   "metadata": {
    "tags": []
   },
   "outputs": [],
   "source": [
    "options = webdriver.ChromeOptions()\n",
    "options.add_argument('--disable-blink-features=AutomationControlled')\n",
    "options.add_argument('--user-agent=Mozilla/5.0 (Windows NT 10.0; Win64; x64) AppleWebKit/537.36 (KHTML, like Gecko) Chrome/58.0.3029.110 Safari/537.3')"
   ]
  },
  {
   "cell_type": "code",
   "execution_count": 4,
   "metadata": {
    "tags": []
   },
   "outputs": [],
   "source": [
    "url = 'http://192.168.1.11:3000'"
   ]
  },
  {
   "cell_type": "code",
   "execution_count": 5,
   "metadata": {
    "tags": []
   },
   "outputs": [],
   "source": [
    "driver = uc.Chrome(options=options, service = Service(executable_path=ChromeDriverManager().install()))"
   ]
  },
  {
   "cell_type": "code",
   "execution_count": 6,
   "metadata": {
    "tags": []
   },
   "outputs": [],
   "source": [
    "driver.get(url)\n",
    "driver.maximize_window()"
   ]
  },
  {
   "cell_type": "code",
   "execution_count": 7,
   "metadata": {
    "tags": []
   },
   "outputs": [
    {
     "ename": "NoSuchElementException",
     "evalue": "Message: no such element: Unable to locate element: {\"method\":\"xpath\",\"selector\":\"/html/body/nav/a[2]\"}\n  (Session info: chrome=123.0.6312.105); For documentation on this error, please visit: https://www.selenium.dev/documentation/webdriver/troubleshooting/errors#no-such-element-exception\nStacktrace:\n\tGetHandleVerifier [0x00FA4CC3+225091]\n\t(No symbol) [0x00ED4E11]\n\t(No symbol) [0x00D79A7A]\n\t(No symbol) [0x00DB175B]\n\t(No symbol) [0x00DB188B]\n\t(No symbol) [0x00DE7882]\n\t(No symbol) [0x00DCF5A4]\n\t(No symbol) [0x00DE5CB0]\n\t(No symbol) [0x00DCF2F6]\n\t(No symbol) [0x00DA79B9]\n\t(No symbol) [0x00DA879D]\n\tsqlite3_dbdata_init [0x01419A63+4064547]\n\tsqlite3_dbdata_init [0x0142106A+4094762]\n\tsqlite3_dbdata_init [0x0141B968+4072488]\n\tsqlite3_dbdata_init [0x0111C9C9+930953]\n\t(No symbol) [0x00EE07E4]\n\t(No symbol) [0x00EDAD08]\n\t(No symbol) [0x00EDAE31]\n\t(No symbol) [0x00ECCAA0]\n\tBaseThreadInitThunk [0x755E6839+25]\n\tRtlGetFullPathName_UEx [0x777E906F+1215]\n\tRtlGetFullPathName_UEx [0x777E903D+1165]\n",
     "output_type": "error",
     "traceback": [
      "\u001b[1;31m---------------------------------------------------------------------------\u001b[0m",
      "\u001b[1;31mNoSuchElementException\u001b[0m                    Traceback (most recent call last)",
      "Cell \u001b[1;32mIn[7], line 1\u001b[0m\n\u001b[1;32m----> 1\u001b[0m driver\u001b[38;5;241m.\u001b[39mfind_element(By\u001b[38;5;241m.\u001b[39mXPATH, \u001b[38;5;124m'\u001b[39m\u001b[38;5;124m/html/body/nav/a[2]\u001b[39m\u001b[38;5;124m'\u001b[39m)\u001b[38;5;241m.\u001b[39mclick()\n\u001b[0;32m      2\u001b[0m time\u001b[38;5;241m.\u001b[39msleep(\u001b[38;5;241m30\u001b[39m)\n",
      "File \u001b[1;32mC:\\ProgramData\\anaconda3\\Lib\\site-packages\\selenium\\webdriver\\remote\\webdriver.py:741\u001b[0m, in \u001b[0;36mWebDriver.find_element\u001b[1;34m(self, by, value)\u001b[0m\n\u001b[0;32m    738\u001b[0m     by \u001b[38;5;241m=\u001b[39m By\u001b[38;5;241m.\u001b[39mCSS_SELECTOR\n\u001b[0;32m    739\u001b[0m     value \u001b[38;5;241m=\u001b[39m \u001b[38;5;124mf\u001b[39m\u001b[38;5;124m'\u001b[39m\u001b[38;5;124m[name=\u001b[39m\u001b[38;5;124m\"\u001b[39m\u001b[38;5;132;01m{\u001b[39;00mvalue\u001b[38;5;132;01m}\u001b[39;00m\u001b[38;5;124m\"\u001b[39m\u001b[38;5;124m]\u001b[39m\u001b[38;5;124m'\u001b[39m\n\u001b[1;32m--> 741\u001b[0m \u001b[38;5;28;01mreturn\u001b[39;00m \u001b[38;5;28mself\u001b[39m\u001b[38;5;241m.\u001b[39mexecute(Command\u001b[38;5;241m.\u001b[39mFIND_ELEMENT, {\u001b[38;5;124m\"\u001b[39m\u001b[38;5;124musing\u001b[39m\u001b[38;5;124m\"\u001b[39m: by, \u001b[38;5;124m\"\u001b[39m\u001b[38;5;124mvalue\u001b[39m\u001b[38;5;124m\"\u001b[39m: value})[\u001b[38;5;124m\"\u001b[39m\u001b[38;5;124mvalue\u001b[39m\u001b[38;5;124m\"\u001b[39m]\n",
      "File \u001b[1;32mC:\\ProgramData\\anaconda3\\Lib\\site-packages\\selenium\\webdriver\\remote\\webdriver.py:347\u001b[0m, in \u001b[0;36mWebDriver.execute\u001b[1;34m(self, driver_command, params)\u001b[0m\n\u001b[0;32m    345\u001b[0m response \u001b[38;5;241m=\u001b[39m \u001b[38;5;28mself\u001b[39m\u001b[38;5;241m.\u001b[39mcommand_executor\u001b[38;5;241m.\u001b[39mexecute(driver_command, params)\n\u001b[0;32m    346\u001b[0m \u001b[38;5;28;01mif\u001b[39;00m response:\n\u001b[1;32m--> 347\u001b[0m     \u001b[38;5;28mself\u001b[39m\u001b[38;5;241m.\u001b[39merror_handler\u001b[38;5;241m.\u001b[39mcheck_response(response)\n\u001b[0;32m    348\u001b[0m     response[\u001b[38;5;124m\"\u001b[39m\u001b[38;5;124mvalue\u001b[39m\u001b[38;5;124m\"\u001b[39m] \u001b[38;5;241m=\u001b[39m \u001b[38;5;28mself\u001b[39m\u001b[38;5;241m.\u001b[39m_unwrap_value(response\u001b[38;5;241m.\u001b[39mget(\u001b[38;5;124m\"\u001b[39m\u001b[38;5;124mvalue\u001b[39m\u001b[38;5;124m\"\u001b[39m, \u001b[38;5;28;01mNone\u001b[39;00m))\n\u001b[0;32m    349\u001b[0m     \u001b[38;5;28;01mreturn\u001b[39;00m response\n",
      "File \u001b[1;32mC:\\ProgramData\\anaconda3\\Lib\\site-packages\\selenium\\webdriver\\remote\\errorhandler.py:229\u001b[0m, in \u001b[0;36mErrorHandler.check_response\u001b[1;34m(self, response)\u001b[0m\n\u001b[0;32m    227\u001b[0m         alert_text \u001b[38;5;241m=\u001b[39m value[\u001b[38;5;124m\"\u001b[39m\u001b[38;5;124malert\u001b[39m\u001b[38;5;124m\"\u001b[39m]\u001b[38;5;241m.\u001b[39mget(\u001b[38;5;124m\"\u001b[39m\u001b[38;5;124mtext\u001b[39m\u001b[38;5;124m\"\u001b[39m)\n\u001b[0;32m    228\u001b[0m     \u001b[38;5;28;01mraise\u001b[39;00m exception_class(message, screen, stacktrace, alert_text)  \u001b[38;5;66;03m# type: ignore[call-arg]  # mypy is not smart enough here\u001b[39;00m\n\u001b[1;32m--> 229\u001b[0m \u001b[38;5;28;01mraise\u001b[39;00m exception_class(message, screen, stacktrace)\n",
      "\u001b[1;31mNoSuchElementException\u001b[0m: Message: no such element: Unable to locate element: {\"method\":\"xpath\",\"selector\":\"/html/body/nav/a[2]\"}\n  (Session info: chrome=123.0.6312.105); For documentation on this error, please visit: https://www.selenium.dev/documentation/webdriver/troubleshooting/errors#no-such-element-exception\nStacktrace:\n\tGetHandleVerifier [0x00FA4CC3+225091]\n\t(No symbol) [0x00ED4E11]\n\t(No symbol) [0x00D79A7A]\n\t(No symbol) [0x00DB175B]\n\t(No symbol) [0x00DB188B]\n\t(No symbol) [0x00DE7882]\n\t(No symbol) [0x00DCF5A4]\n\t(No symbol) [0x00DE5CB0]\n\t(No symbol) [0x00DCF2F6]\n\t(No symbol) [0x00DA79B9]\n\t(No symbol) [0x00DA879D]\n\tsqlite3_dbdata_init [0x01419A63+4064547]\n\tsqlite3_dbdata_init [0x0142106A+4094762]\n\tsqlite3_dbdata_init [0x0141B968+4072488]\n\tsqlite3_dbdata_init [0x0111C9C9+930953]\n\t(No symbol) [0x00EE07E4]\n\t(No symbol) [0x00EDAD08]\n\t(No symbol) [0x00EDAE31]\n\t(No symbol) [0x00ECCAA0]\n\tBaseThreadInitThunk [0x755E6839+25]\n\tRtlGetFullPathName_UEx [0x777E906F+1215]\n\tRtlGetFullPathName_UEx [0x777E903D+1165]\n"
     ]
    }
   ],
   "source": [
    "driver.find_element(By.XPATH, '/html/body/nav/a[2]').click()\n",
    "time.sleep(30)"
   ]
  },
  {
   "cell_type": "code",
   "execution_count": null,
   "metadata": {
    "tags": []
   },
   "outputs": [],
   "source": [
    "html = driver.page_source\n",
    "soup = bs(html, 'html.parser')\n",
    "div_novels = soup.find('div', class_='novelOptions')\n",
    "list_novels = div_novels.find_all('a')\n",
    "data_novelas = {\"nombre\":[], \"url\":[]}\n",
    "for chap in list_novels:\n",
    "    data_novelas['nombre'].append(chap.getText())\n",
    "    data_novelas['url'].append(chap.get('href'))\n",
    "df_novelas = pd.DataFrame(data_novelas)\n"
   ]
  },
  {
   "cell_type": "code",
   "execution_count": null,
   "metadata": {
    "tags": []
   },
   "outputs": [],
   "source": [
    "df_novelas"
   ]
  },
  {
   "cell_type": "code",
   "execution_count": null,
   "metadata": {
    "tags": []
   },
   "outputs": [],
   "source": [
    "def traducir(texto):\n",
    "    contenido_p = ''\n",
    "    while True:\n",
    "        try:\n",
    "            contenido_p = ts.translate_text(\n",
    "                texto, translator='bing', to_language='es')\n",
    "            break\n",
    "        except Exception as e:\n",
    "            # print(e)\n",
    "            try:\n",
    "                contenido_p = ts.translate_text(\n",
    "                    texto, translator='google', to_language='es')\n",
    "                break\n",
    "            except Exception as e:\n",
    "                # print(e)\n",
    "                try:\n",
    "                    translator = google_translator() \n",
    "                    contenido_p = translator.translate(texto, lang_tgt='es')\n",
    "                except Exception as e:\n",
    "                    # print(e)\n",
    "                    pass\n",
    "                pass\n",
    "            pass\n",
    "    return contenido_p"
   ]
  },
  {
   "cell_type": "code",
   "execution_count": null,
   "metadata": {
    "tags": []
   },
   "outputs": [],
   "source": [
    "def enviar_contenido_capitulo(novel_id,capitulo_id,texto_capitulo):\n",
    "    url_contenido_capitulos = \"http://192.168.1.11:8000/api/contenidocapitulos/\"\n",
    "    headers = {\n",
    "        'Content-Type': 'application/json'\n",
    "    }\n",
    "    payload_chapter = {\n",
    "        \"novela_id\": novel_id,\n",
    "        \"capitulo_id\": capitulo_id,\n",
    "        \"texto\": texto_capitulo,\n",
    "        \"created_at\": datetime.now().isoformat(),\n",
    "        \"updated_at\": datetime.now().isoformat()\n",
    "    }\n",
    "\n",
    "    try:\n",
    "        res_cap = requests.post(url_contenido_capitulos, headers=headers, json=payload_chapter)\n",
    "        res_cap.raise_for_status()\n",
    "        return res_cap.json()['_id']\n",
    "    except requests.exceptions.RequestException as e:\n",
    "        print(f\"Error al enviar el contenido del capítulo: {e}\")\n",
    "        return None"
   ]
  },
  {
   "cell_type": "code",
   "execution_count": null,
   "metadata": {
    "tags": []
   },
   "outputs": [],
   "source": [
    "def manejar_driver(url, driver, novel_id):\n",
    "    \"\"\"\n",
    "    Maneja el proceso de extracción de contenido de capítulos de una novela.\n",
    "\n",
    "    Args:\n",
    "        url (str): La URL de la novela.\n",
    "        driver (webdriver): El controlador del navegador web.\n",
    "        novel_id (str): El ID de la novela.\n",
    "\n",
    "    Returns:\n",
    "        None\n",
    "    \"\"\"\n",
    "    driver.get(url)\n",
    "    list_chapter = driver.find_elements(By.CLASS_NAME, 'capitulo')\n",
    "\n",
    "    # Obtener una lista de capítulos existentes en la base de datos\n",
    "    coleccion = db['app_contenidocapitulo']\n",
    "    capitulos_existentes = coleccion.find({'novela_id': novel_id}, {'capitulo_id': 1, '_id': 0})\n",
    "    capitulos_existentes = [doc['capitulo_id'] for doc in capitulos_existentes]\n",
    "\n",
    "    for chapter in list_chapter:\n",
    "        capitulo_id = chapter.get_attribute('id')\n",
    "        if capitulo_id not in capitulos_existentes:\n",
    "            print(f\"Procesando capítulo: {capitulo_id}\", end=\" | \")\n",
    "            chapter.click()\n",
    "            time.sleep(3)  # Esperar a que se cargue el contenido del capítulo\n",
    "\n",
    "            # Cambiar el contexto al iframe\n",
    "            iframe = driver.find_element(By.XPATH, \"/html/body/div/div/div[1]/iframe\")\n",
    "            driver.switch_to.frame(iframe)\n",
    "\n",
    "            try:\n",
    "                html_frame = driver.page_source\n",
    "                soup_frame = bs(html_frame, 'html.parser')\n",
    "                div_chap_content = soup_frame.find('div', id='chr-content')\n",
    "                p_chap_content = div_chap_content.find_all('p')\n",
    "                chap_content = [p.getText().strip().rstrip() for p in p_chap_content]\n",
    "\n",
    "                texto_capitulo = ''\n",
    "                for parrafo in chap_content:\n",
    "                    if parrafo != '':\n",
    "                        if len(parrafo) > 4000:\n",
    "                            texto_traducido = '. '.join([traducir(x) for x in parrafo.split('. ') if x != ''])\n",
    "                            texto_capitulo += f\"<p>{texto_traducido}</p>\"\n",
    "                        else:\n",
    "                            texto_traducido = traducir(parrafo)\n",
    "                            texto_capitulo += f\"<p>{texto_traducido}</p>\"\n",
    "\n",
    "                _id = enviar_contenido_capitulo(novel_id=novel_id, capitulo_id=capitulo_id, texto_capitulo=texto_capitulo)\n",
    "                print(f\"ID del capítulo insertado: {_id}\")\n",
    "            except Exception as e:\n",
    "                print(f\"El capitulo {capitulo_id} ha presentado problemas al momento de acceder.\")\n",
    "                pass\n",
    "\n",
    "            # Volver al contexto principal de la página web\n",
    "            driver.switch_to.default_content()\n",
    "        # else:\n",
    "        #     print(f\"El capítulo {capitulo_id} ya existe en la base de datos. Omitiendo...\", end=\" | \")\n",
    "        # break\n",
    "    "
   ]
  },
  {
   "cell_type": "code",
   "execution_count": null,
   "metadata": {
    "scrolled": true,
    "tags": []
   },
   "outputs": [],
   "source": [
    "for idx, novela in df_novelas.iterrows():\n",
    "    novel_id = novela.url.split('/')[-1]\n",
    "    print(novel_id)\n",
    "    time.sleep(4)\n",
    "    manejar_driver(url=f\"{url}{novela.url}\", driver=driver, novel_id=novel_id)\n",
    "    # break"
   ]
  },
  {
   "cell_type": "code",
   "execution_count": null,
   "metadata": {},
   "outputs": [],
   "source": [
    "driver.quit()"
   ]
  }
 ],
 "metadata": {
  "kernelspec": {
   "display_name": "Python 3 (ipykernel)",
   "language": "python",
   "name": "python3"
  },
  "language_info": {
   "codemirror_mode": {
    "name": "ipython",
    "version": 3
   },
   "file_extension": ".py",
   "mimetype": "text/x-python",
   "name": "python",
   "nbconvert_exporter": "python",
   "pygments_lexer": "ipython3",
   "version": "3.11.5"
  }
 },
 "nbformat": 4,
 "nbformat_minor": 4
}
