{
 "cells": [
  {
   "cell_type": "code",
   "execution_count": 22,
   "metadata": {},
   "outputs": [],
   "source": [
    "from webdriver_manager.chrome import ChromeDriverManager\n",
    "from selenium.webdriver.chrome.service import Service\n",
    "from selenium.webdriver.common.by import By\n",
    "from bs4 import BeautifulSoup as bs\n",
    "import translators as ts\n",
    "import undetected_chromedriver as uc\n",
    "import pandas as pd\n",
    "from selenium import webdriver\n",
    "import requests\n",
    "import json\n",
    "import time\n",
    "import asyncio\n",
    "from pymongo import MongoClient\n",
    "from datetime import datetime"
   ]
  },
  {
   "cell_type": "code",
   "execution_count": 23,
   "metadata": {},
   "outputs": [],
   "source": [
    "def traducir(texto):\n",
    "    contenido_p = ''\n",
    "    while True:\n",
    "        try:\n",
    "            contenido_p = ts.translate_text(\n",
    "                texto, translator='bing', to_language='es')\n",
    "            break\n",
    "        except Exception as e:\n",
    "            print(e)\n",
    "            try:\n",
    "                contenido_p = ts.translate_text(\n",
    "                    texto, translator='google', to_language='es')\n",
    "                break\n",
    "            except Exception as e:\n",
    "                print(e)\n",
    "                pass\n",
    "            pass\n",
    "    return contenido_p"
   ]
  },
  {
   "cell_type": "code",
   "execution_count": 24,
   "metadata": {},
   "outputs": [],
   "source": [
    "options = webdriver.ChromeOptions()\n",
    "options.add_argument('--disable-blink-features=AutomationControlled')\n",
    "options.add_argument('--user-agent=Mozilla/5.0 (Windows NT 10.0; Win64; x64) AppleWebKit/537.36 (KHTML, like Gecko) Chrome/58.0.3029.110 Safari/537.3')"
   ]
  },
  {
   "cell_type": "code",
   "execution_count": 25,
   "metadata": {},
   "outputs": [],
   "source": [
    "url = 'https://novel-bin.net/sort/daily-novel-bin'"
   ]
  },
  {
   "cell_type": "code",
   "execution_count": 26,
   "metadata": {},
   "outputs": [],
   "source": [
    "driver = uc.Chrome(options=options, service = Service(executable_path=ChromeDriverManager().install()))"
   ]
  },
  {
   "cell_type": "code",
   "execution_count": 27,
   "metadata": {},
   "outputs": [],
   "source": [
    "driver.get(url)\n",
    "driver.maximize_window()"
   ]
  },
  {
   "cell_type": "code",
   "execution_count": 28,
   "metadata": {},
   "outputs": [],
   "source": [
    "time.sleep(5)\n",
    "list_novels = []\n",
    "while True:\n",
    "    try:\n",
    "        html = driver.page_source\n",
    "        soup = bs(html, 'html.parser')\n",
    "        list_novels_page = soup.find_all('h3', class_='novel-title')\n",
    "        for list in list_novels_page:\n",
    "            a = list.find('a').get('href')\n",
    "            list_novels.append(a)\n",
    "        last = driver.find_element(By.CLASS_NAME, 'last')\n",
    "        driver.find_element(By.XPATH,'//*[@id=\"container\"]/div[3]/div/ul/li[8]/a').click()\n",
    "        time.sleep(3)\n",
    "        break\n",
    "    except Exception as e:\n",
    "        print(e)\n",
    "        break\n"
   ]
  },
  {
   "cell_type": "code",
   "execution_count": 29,
   "metadata": {},
   "outputs": [
    {
     "name": "stdout",
     "output_type": "stream",
     "text": [
      "['https://novel-bin.net/novel-bin/return-of-the-shattered-constellation-nov381526030', 'https://novel-bin.net/novel-bin/the-supreme-martial-king-shocking-all-realms-nov5967499', 'https://novel-bin.net/novel-bin/supreme-tamer-nov-927104258', 'https://novel-bin.net/novel-bin/building-a-gaming-empire-from-scratch-nov181733340', 'https://novel-bin.net/novel-bin/this-necromancer-just-wants-to-plant-trees-nov-1081524620', 'https://novel-bin.net/novel-bin/chrysalis-nov399218049', 'https://novel-bin.net/novel-bin/my-lady-to-defeat-scumbags-you-must-start-early-nov-1186385801', 'https://novel-bin.net/novel-bin/hide-and-cultivate-in-the-east-palace-only-to-find-the-prince-is-a-girl-nov-1358746123', 'https://novel-bin.net/novel-bin/master-zhan-calm-down-nov-1265550898', 'https://novel-bin.net/novel-bin/perfect-pampered-marriage-good-morning-hubby-nov-807029362', 'https://novel-bin.net/novel-bin/deities-starting-from-goblins-nov-254673335', 'https://novel-bin.net/novel-bin/please-permit-me-to-love-you-forever-nov90022383', 'https://novel-bin.net/novel-bin/i-have-unparalleled-comprehension-nov209794364', 'https://novel-bin.net/novel-bin/he-is-warmer-than-time-nov-1006216202', 'https://novel-bin.net/novel-bin/super-spender-nov-2014585506', 'https://novel-bin.net/novel-bin/daddy-come-home-for-dinner-nov-1817386095', 'https://novel-bin.net/novel-bin/book-transmigration-i-wanted-to-keep-a-low-profile-but-everyone-noticed-me-nov154366494', 'https://novel-bin.net/novel-bin/i-have-awesome-luck-nov87461025', 'https://novel-bin.net/novel-bin/fated-cultivation-i-have-max-level-divination-skills-nov1916490294', 'https://novel-bin.net/novel-bin/everything-is-too-easy-after-maxing-my-talents-nov-1487709120']\n"
     ]
    }
   ],
   "source": [
    "print(list_novels)"
   ]
  },
  {
   "cell_type": "code",
   "execution_count": 30,
   "metadata": {},
   "outputs": [],
   "source": [
    "client = MongoClient('mongodb://localhost:27017/')\n",
    "\n",
    "# Selecciona la base de datos\n",
    "db = client['recopilarnovelas']"
   ]
  },
  {
   "cell_type": "code",
   "execution_count": 49,
   "metadata": {},
   "outputs": [
    {
     "name": "stdout",
     "output_type": "stream",
     "text": [
      "Novela no registrada\n"
     ]
    },
    {
     "ename": "TypeError",
     "evalue": "'NoneType' object is not subscriptable",
     "output_type": "error",
     "traceback": [
      "\u001b[1;31m---------------------------------------------------------------------------\u001b[0m",
      "\u001b[1;31mTypeError\u001b[0m                                 Traceback (most recent call last)",
      "Cell \u001b[1;32mIn[49], line 45\u001b[0m\n\u001b[0;32m     43\u001b[0m a_list \u001b[38;5;241m=\u001b[39m ul\u001b[38;5;241m.\u001b[39mfind_all(\u001b[38;5;124m'\u001b[39m\u001b[38;5;124ma\u001b[39m\u001b[38;5;124m'\u001b[39m)\n\u001b[0;32m     44\u001b[0m \u001b[38;5;28;01mfor\u001b[39;00m a \u001b[38;5;129;01min\u001b[39;00m a_list:\n\u001b[1;32m---> 45\u001b[0m     resultado_app_capitulo \u001b[38;5;241m=\u001b[39m coleccion_app_capitulo\u001b[38;5;241m.\u001b[39mfind_one({\u001b[38;5;124m'\u001b[39m\u001b[38;5;124mnovela_id\u001b[39m\u001b[38;5;124m'\u001b[39m: \u001b[38;5;28mstr\u001b[39m(resultado[\u001b[38;5;124m'\u001b[39m\u001b[38;5;124m_id\u001b[39m\u001b[38;5;124m'\u001b[39m]), \u001b[38;5;124m'\u001b[39m\u001b[38;5;124murl\u001b[39m\u001b[38;5;124m'\u001b[39m: a\u001b[38;5;241m.\u001b[39mget(\u001b[38;5;124m'\u001b[39m\u001b[38;5;124mhref\u001b[39m\u001b[38;5;124m'\u001b[39m)})\n\u001b[0;32m     46\u001b[0m     \u001b[38;5;28mprint\u001b[39m(resultado_app_capitulo[\u001b[38;5;124m'\u001b[39m\u001b[38;5;124m_id\u001b[39m\u001b[38;5;124m'\u001b[39m] \u001b[38;5;28;01mif\u001b[39;00m resultado_app_capitulo \u001b[38;5;28;01melse\u001b[39;00m \u001b[38;5;124m'\u001b[39m\u001b[38;5;124mcapitulo no registrado\u001b[39m\u001b[38;5;124m'\u001b[39m)\n\u001b[0;32m     47\u001b[0m     \u001b[38;5;28;01mif\u001b[39;00m \u001b[38;5;129;01mnot\u001b[39;00m resultado_app_capitulo:\n",
      "\u001b[1;31mTypeError\u001b[0m: 'NoneType' object is not subscriptable"
     ]
    }
   ],
   "source": [
    "for novel in list_novels:\n",
    "    coleccion_app_novela = db['app_novela']\n",
    "    resultado = coleccion_app_novela.find_one({'url': novel})\n",
    "    print(resultado['_id'] if resultado else 'Novela no registrada')\n",
    "    driver.get(novel)\n",
    "    time.sleep(1)\n",
    "    if not resultado:\n",
    "        html_novel = driver.page_source\n",
    "        soup_novel = bs(html_novel, 'html.parser')\n",
    "        titulo = soup_novel.find('h3', class_='title').getText()\n",
    "        table_info = soup_novel.find('ul', class_='info info-meta').find_all('li')\n",
    "        for li in table_info:\n",
    "            if 'Author:' in li.find('h3').getText().strip().rstrip():\n",
    "                autor = li.find('a').getText().strip().rstrip()\n",
    "            if 'Genre:' in li.find('h3').getText().strip().rstrip():\n",
    "                genero = ', '.join([x.getText().strip().rstrip() for x in li.find_all('a')])\n",
    "            if 'Status:' in li.find('h3').getText().strip().rstrip():\n",
    "                status = li.find('a').getText().strip().rstrip()\n",
    "        img_src = soup_novel.find('div', class_='book').find('img').get('src')\n",
    "        descripcion = soup_novel.find('div', class_='desc-text').getText().strip().rstrip()\n",
    "        novela_data ={\n",
    "            \"sitio_id\":\"65e7e1707963e189aa4c1256\",\n",
    "            \"nombre\": titulo.upper(),\n",
    "            \"sinopsis\": descripcion,\n",
    "            \"autor\": autor,\n",
    "            \"genero\": genero,\n",
    "            \"status\": 'emision' if status =='Ongoing' else 'completo',\n",
    "            \"url\": novel,\n",
    "            \"imagen_url\": img_src,\n",
    "            \"created_at\": datetime.now(),\n",
    "            \"updated_at\": datetime.now()\n",
    "        }\n",
    "        novela_id = str(coleccion_app_novela.insert_one(novela_data).inserted_id)\n",
    "    driver.find_element(By.XPATH, '/html/body/div/main/div[2]/div[1]/div[4]/ul/li[2]/a').click()\n",
    "    time.sleep(4)\n",
    "    coleccion_app_capitulo = db['app_capitulo']\n",
    "    html_novel = driver.page_source\n",
    "    soup_novel = bs(html_novel, 'html.parser')\n",
    "    panel_chapter = soup_novel.find('div', class_='panel-body').find_all('div',class_='row')\n",
    "    for row in panel_chapter:\n",
    "        lists_chapters = row.find_all('ul', class_='list-chapter')\n",
    "        for ul in lists_chapters:\n",
    "            a_list = ul.find_all('a')\n",
    "            for a in a_list:\n",
    "                resultado_app_capitulo = coleccion_app_capitulo.find_one({'novela_id': str(resultado['_id']), 'url': a.get('href')})\n",
    "                print(resultado_app_capitulo['_id'] if resultado_app_capitulo else 'capitulo no registrado')\n",
    "                if not resultado_app_capitulo:\n",
    "                    capitulo_novela_data = {\n",
    "                        \"novela_id\": novela_id,\n",
    "                        \"nombre\": str(traducir(a.getText())),\n",
    "                        \"url\": str(a.get('href')),\n",
    "                        \"created_at\": datetime.now(),\n",
    "                        \"updated_at\": datetime.now()\n",
    "                    }\n",
    "                    cap_id = str(coleccion_app_capitulo.insert_one(capitulo_novela_data).inserted_id)\n",
    "    # break\n"
   ]
  },
  {
   "cell_type": "code",
   "execution_count": null,
   "metadata": {},
   "outputs": [],
   "source": [
    "driver.quit()"
   ]
  }
 ],
 "metadata": {
  "kernelspec": {
   "display_name": "Python 3 (ipykernel)",
   "language": "python",
   "name": "python3"
  },
  "language_info": {
   "codemirror_mode": {
    "name": "ipython",
    "version": 3
   },
   "file_extension": ".py",
   "mimetype": "text/x-python",
   "name": "python",
   "nbconvert_exporter": "python",
   "pygments_lexer": "ipython3",
   "version": "3.11.5"
  }
 },
 "nbformat": 4,
 "nbformat_minor": 2
}
